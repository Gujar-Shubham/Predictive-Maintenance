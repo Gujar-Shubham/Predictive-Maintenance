{
  "nbformat": 4,
  "nbformat_minor": 0,
  "metadata": {
    "accelerator": "GPU",
    "colab": {
      "name": "Accumulator prediction.ipynb",
      "provenance": [],
      "collapsed_sections": []
    },
    "kernelspec": {
      "display_name": "Python 3",
      "name": "python3"
    }
  },
  "cells": [
    {
      "cell_type": "code",
      "metadata": {
        "colab": {
          "base_uri": "https://localhost:8080/",
          "height": 400
        },
        "id": "TnrV_37n4kRO",
        "outputId": "d2236877-f823-41aa-9be0-ecd8206f1158"
      },
      "source": [
        "# load the dataset \n",
        "import pandas as pd\n",
        "import numpy as np\n",
        "import numpy as np # linear algebra\n",
        "import pandas as pd # data processing, CSV file I/O (e.g. pd.read_csv)\n",
        "#from datetime import datetime, timedelta\n",
        "import matplotlib.pyplot as plt\n",
        "#import seaborn as sns; sns.set()\n",
        "\n",
        "data = pd.read_excel('/content/drive/MyDrive/Pump Predictive Maintenance/Condition Hydraulic Pump/condition Hydraulic.xlsx')\n",
        "data.head()"
      ],
      "execution_count": null,
      "outputs": [
        {
          "output_type": "execute_result",
          "data": {
            "text/html": [
              "<div>\n",
              "<style scoped>\n",
              "    .dataframe tbody tr th:only-of-type {\n",
              "        vertical-align: middle;\n",
              "    }\n",
              "\n",
              "    .dataframe tbody tr th {\n",
              "        vertical-align: top;\n",
              "    }\n",
              "\n",
              "    .dataframe thead th {\n",
              "        text-align: right;\n",
              "    }\n",
              "</style>\n",
              "<table border=\"1\" class=\"dataframe\">\n",
              "  <thead>\n",
              "    <tr style=\"text-align: right;\">\n",
              "      <th></th>\n",
              "      <th>Unnamed: 0</th>\n",
              "      <th>cycle_id</th>\n",
              "      <th>date</th>\n",
              "      <th>PS1</th>\n",
              "      <th>PS2</th>\n",
              "      <th>PS3</th>\n",
              "      <th>PS4</th>\n",
              "      <th>PS5</th>\n",
              "      <th>PS6</th>\n",
              "      <th>FS1</th>\n",
              "      <th>FS2</th>\n",
              "      <th>TS1</th>\n",
              "      <th>TS2</th>\n",
              "      <th>TS3</th>\n",
              "      <th>TS4</th>\n",
              "      <th>P1</th>\n",
              "      <th>VS1</th>\n",
              "      <th>CE1</th>\n",
              "      <th>CP1</th>\n",
              "      <th>SE1</th>\n",
              "      <th>cooler</th>\n",
              "      <th>valve</th>\n",
              "      <th>leakage</th>\n",
              "      <th>accumulator</th>\n",
              "      <th>stable</th>\n",
              "      <th>rul</th>\n",
              "      <th>label1</th>\n",
              "    </tr>\n",
              "  </thead>\n",
              "  <tbody>\n",
              "    <tr>\n",
              "      <th>0</th>\n",
              "      <td>0</td>\n",
              "      <td>1</td>\n",
              "      <td>2019-01-01 00:00:00</td>\n",
              "      <td>160.673492</td>\n",
              "      <td>109.466914</td>\n",
              "      <td>1.991475</td>\n",
              "      <td>0.0</td>\n",
              "      <td>9.842170</td>\n",
              "      <td>9.728097</td>\n",
              "      <td>6.709815</td>\n",
              "      <td>10.304592</td>\n",
              "      <td>35.621983</td>\n",
              "      <td>40.978767</td>\n",
              "      <td>38.471017</td>\n",
              "      <td>31.745250</td>\n",
              "      <td>2538.929167</td>\n",
              "      <td>0.576950</td>\n",
              "      <td>39.601350</td>\n",
              "      <td>1.862750</td>\n",
              "      <td>59.157183</td>\n",
              "      <td>3</td>\n",
              "      <td>100</td>\n",
              "      <td>0</td>\n",
              "      <td>130</td>\n",
              "      <td>1</td>\n",
              "      <td>35.166667</td>\n",
              "      <td>0</td>\n",
              "    </tr>\n",
              "    <tr>\n",
              "      <th>1</th>\n",
              "      <td>1</td>\n",
              "      <td>2</td>\n",
              "      <td>2019-01-01 00:10:00</td>\n",
              "      <td>160.603320</td>\n",
              "      <td>109.354890</td>\n",
              "      <td>1.976234</td>\n",
              "      <td>0.0</td>\n",
              "      <td>9.635142</td>\n",
              "      <td>9.529488</td>\n",
              "      <td>6.715315</td>\n",
              "      <td>10.403098</td>\n",
              "      <td>36.676967</td>\n",
              "      <td>41.532767</td>\n",
              "      <td>38.978967</td>\n",
              "      <td>34.493867</td>\n",
              "      <td>2531.498900</td>\n",
              "      <td>0.565850</td>\n",
              "      <td>25.786433</td>\n",
              "      <td>1.255550</td>\n",
              "      <td>59.335617</td>\n",
              "      <td>3</td>\n",
              "      <td>100</td>\n",
              "      <td>0</td>\n",
              "      <td>130</td>\n",
              "      <td>1</td>\n",
              "      <td>35.000000</td>\n",
              "      <td>0</td>\n",
              "    </tr>\n",
              "    <tr>\n",
              "      <th>2</th>\n",
              "      <td>2</td>\n",
              "      <td>3</td>\n",
              "      <td>2019-01-01 00:20:00</td>\n",
              "      <td>160.347720</td>\n",
              "      <td>109.158845</td>\n",
              "      <td>1.972224</td>\n",
              "      <td>0.0</td>\n",
              "      <td>9.530548</td>\n",
              "      <td>9.427949</td>\n",
              "      <td>6.718522</td>\n",
              "      <td>10.366250</td>\n",
              "      <td>37.880800</td>\n",
              "      <td>42.442450</td>\n",
              "      <td>39.631950</td>\n",
              "      <td>35.646150</td>\n",
              "      <td>2519.928000</td>\n",
              "      <td>0.576533</td>\n",
              "      <td>NaN</td>\n",
              "      <td>1.113217</td>\n",
              "      <td>59.543150</td>\n",
              "      <td>3</td>\n",
              "      <td>100</td>\n",
              "      <td>0</td>\n",
              "      <td>130</td>\n",
              "      <td>1</td>\n",
              "      <td>34.833333</td>\n",
              "      <td>0</td>\n",
              "    </tr>\n",
              "    <tr>\n",
              "      <th>3</th>\n",
              "      <td>3</td>\n",
              "      <td>4</td>\n",
              "      <td>2019-01-01 00:30:00</td>\n",
              "      <td>160.188088</td>\n",
              "      <td>109.064807</td>\n",
              "      <td>1.946575</td>\n",
              "      <td>0.0</td>\n",
              "      <td>9.438827</td>\n",
              "      <td>9.337430</td>\n",
              "      <td>6.720565</td>\n",
              "      <td>10.302678</td>\n",
              "      <td>38.879050</td>\n",
              "      <td>43.403983</td>\n",
              "      <td>40.403383</td>\n",
              "      <td>36.579467</td>\n",
              "      <td>2511.541633</td>\n",
              "      <td>0.569267</td>\n",
              "      <td>20.459817</td>\n",
              "      <td>1.062150</td>\n",
              "      <td>59.794900</td>\n",
              "      <td>3</td>\n",
              "      <td>100</td>\n",
              "      <td>0</td>\n",
              "      <td>130</td>\n",
              "      <td>1</td>\n",
              "      <td>34.666667</td>\n",
              "      <td>0</td>\n",
              "    </tr>\n",
              "    <tr>\n",
              "      <th>4</th>\n",
              "      <td>4</td>\n",
              "      <td>5</td>\n",
              "      <td>2019-01-01 00:40:00</td>\n",
              "      <td>160.000472</td>\n",
              "      <td>108.931434</td>\n",
              "      <td>1.922707</td>\n",
              "      <td>0.0</td>\n",
              "      <td>9.358762</td>\n",
              "      <td>9.260636</td>\n",
              "      <td>6.690308</td>\n",
              "      <td>10.237750</td>\n",
              "      <td>39.803917</td>\n",
              "      <td>44.332750</td>\n",
              "      <td>41.310550</td>\n",
              "      <td>37.427900</td>\n",
              "      <td>2503.449500</td>\n",
              "      <td>0.577367</td>\n",
              "      <td>19.787017</td>\n",
              "      <td>1.070467</td>\n",
              "      <td>59.455267</td>\n",
              "      <td>3</td>\n",
              "      <td>100</td>\n",
              "      <td>0</td>\n",
              "      <td>130</td>\n",
              "      <td>1</td>\n",
              "      <td>34.500000</td>\n",
              "      <td>0</td>\n",
              "    </tr>\n",
              "  </tbody>\n",
              "</table>\n",
              "</div>"
            ],
            "text/plain": [
              "   Unnamed: 0  cycle_id                date  ...  stable        rul  label1\n",
              "0           0         1 2019-01-01 00:00:00  ...       1  35.166667       0\n",
              "1           1         2 2019-01-01 00:10:00  ...       1  35.000000       0\n",
              "2           2         3 2019-01-01 00:20:00  ...       1  34.833333       0\n",
              "3           3         4 2019-01-01 00:30:00  ...       1  34.666667       0\n",
              "4           4         5 2019-01-01 00:40:00  ...       1  34.500000       0\n",
              "\n",
              "[5 rows x 27 columns]"
            ]
          },
          "metadata": {
            "tags": []
          },
          "execution_count": 1
        }
      ]
    },
    {
      "cell_type": "code",
      "metadata": {
        "id": "TqrjVUig5XUf"
      },
      "source": [
        "df = pd.DataFrame(data, columns=['PS1','PS3', 'PS4', 'PS5', 'FS1', 'FS2', 'TS1', 'P1', 'VS1', 'CE1', 'CP1', 'SE1', 'accumulator'])"
      ],
      "execution_count": null,
      "outputs": []
    },
    {
      "cell_type": "code",
      "metadata": {
        "colab": {
          "base_uri": "https://localhost:8080/",
          "height": 195
        },
        "id": "GurrDpoy5ao4",
        "outputId": "82850da4-b2f8-4b0f-f065-c9ea4f0f5882"
      },
      "source": [
        "df = df.fillna(method='ffill')\n",
        "df.head()"
      ],
      "execution_count": null,
      "outputs": [
        {
          "output_type": "execute_result",
          "data": {
            "text/html": [
              "<div>\n",
              "<style scoped>\n",
              "    .dataframe tbody tr th:only-of-type {\n",
              "        vertical-align: middle;\n",
              "    }\n",
              "\n",
              "    .dataframe tbody tr th {\n",
              "        vertical-align: top;\n",
              "    }\n",
              "\n",
              "    .dataframe thead th {\n",
              "        text-align: right;\n",
              "    }\n",
              "</style>\n",
              "<table border=\"1\" class=\"dataframe\">\n",
              "  <thead>\n",
              "    <tr style=\"text-align: right;\">\n",
              "      <th></th>\n",
              "      <th>PS1</th>\n",
              "      <th>PS3</th>\n",
              "      <th>PS4</th>\n",
              "      <th>PS5</th>\n",
              "      <th>FS1</th>\n",
              "      <th>FS2</th>\n",
              "      <th>TS1</th>\n",
              "      <th>P1</th>\n",
              "      <th>VS1</th>\n",
              "      <th>CE1</th>\n",
              "      <th>CP1</th>\n",
              "      <th>SE1</th>\n",
              "      <th>accumulator</th>\n",
              "    </tr>\n",
              "  </thead>\n",
              "  <tbody>\n",
              "    <tr>\n",
              "      <th>0</th>\n",
              "      <td>160.673492</td>\n",
              "      <td>1.991475</td>\n",
              "      <td>0.0</td>\n",
              "      <td>9.842170</td>\n",
              "      <td>6.709815</td>\n",
              "      <td>10.304592</td>\n",
              "      <td>35.621983</td>\n",
              "      <td>2538.929167</td>\n",
              "      <td>0.576950</td>\n",
              "      <td>39.601350</td>\n",
              "      <td>1.862750</td>\n",
              "      <td>59.157183</td>\n",
              "      <td>130</td>\n",
              "    </tr>\n",
              "    <tr>\n",
              "      <th>1</th>\n",
              "      <td>160.603320</td>\n",
              "      <td>1.976234</td>\n",
              "      <td>0.0</td>\n",
              "      <td>9.635142</td>\n",
              "      <td>6.715315</td>\n",
              "      <td>10.403098</td>\n",
              "      <td>36.676967</td>\n",
              "      <td>2531.498900</td>\n",
              "      <td>0.565850</td>\n",
              "      <td>25.786433</td>\n",
              "      <td>1.255550</td>\n",
              "      <td>59.335617</td>\n",
              "      <td>130</td>\n",
              "    </tr>\n",
              "    <tr>\n",
              "      <th>2</th>\n",
              "      <td>160.347720</td>\n",
              "      <td>1.972224</td>\n",
              "      <td>0.0</td>\n",
              "      <td>9.530548</td>\n",
              "      <td>6.718522</td>\n",
              "      <td>10.366250</td>\n",
              "      <td>37.880800</td>\n",
              "      <td>2519.928000</td>\n",
              "      <td>0.576533</td>\n",
              "      <td>25.786433</td>\n",
              "      <td>1.113217</td>\n",
              "      <td>59.543150</td>\n",
              "      <td>130</td>\n",
              "    </tr>\n",
              "    <tr>\n",
              "      <th>3</th>\n",
              "      <td>160.188088</td>\n",
              "      <td>1.946575</td>\n",
              "      <td>0.0</td>\n",
              "      <td>9.438827</td>\n",
              "      <td>6.720565</td>\n",
              "      <td>10.302678</td>\n",
              "      <td>38.879050</td>\n",
              "      <td>2511.541633</td>\n",
              "      <td>0.569267</td>\n",
              "      <td>20.459817</td>\n",
              "      <td>1.062150</td>\n",
              "      <td>59.794900</td>\n",
              "      <td>130</td>\n",
              "    </tr>\n",
              "    <tr>\n",
              "      <th>4</th>\n",
              "      <td>160.000472</td>\n",
              "      <td>1.922707</td>\n",
              "      <td>0.0</td>\n",
              "      <td>9.358762</td>\n",
              "      <td>6.690308</td>\n",
              "      <td>10.237750</td>\n",
              "      <td>39.803917</td>\n",
              "      <td>2503.449500</td>\n",
              "      <td>0.577367</td>\n",
              "      <td>19.787017</td>\n",
              "      <td>1.070467</td>\n",
              "      <td>59.455267</td>\n",
              "      <td>130</td>\n",
              "    </tr>\n",
              "  </tbody>\n",
              "</table>\n",
              "</div>"
            ],
            "text/plain": [
              "          PS1       PS3  PS4  ...       CP1        SE1  accumulator\n",
              "0  160.673492  1.991475  0.0  ...  1.862750  59.157183          130\n",
              "1  160.603320  1.976234  0.0  ...  1.255550  59.335617          130\n",
              "2  160.347720  1.972224  0.0  ...  1.113217  59.543150          130\n",
              "3  160.188088  1.946575  0.0  ...  1.062150  59.794900          130\n",
              "4  160.000472  1.922707  0.0  ...  1.070467  59.455267          130\n",
              "\n",
              "[5 rows x 13 columns]"
            ]
          },
          "metadata": {
            "tags": []
          },
          "execution_count": 3
        }
      ]
    },
    {
      "cell_type": "code",
      "metadata": {
        "colab": {
          "base_uri": "https://localhost:8080/"
        },
        "id": "2ttYyw355b_a",
        "outputId": "615ed748-3896-4bd2-fbc5-73363da40a4a"
      },
      "source": [
        "df['accumulator'].unique()"
      ],
      "execution_count": null,
      "outputs": [
        {
          "output_type": "execute_result",
          "data": {
            "text/plain": [
              "array([130, 115, 100,  90])"
            ]
          },
          "metadata": {
            "tags": []
          },
          "execution_count": 4
        }
      ]
    },
    {
      "cell_type": "code",
      "metadata": {
        "id": "9So-ANGi5rit"
      },
      "source": [
        "X = df.iloc[:, :12]\n",
        "y = df.iloc[:, 12]"
      ],
      "execution_count": null,
      "outputs": []
    },
    {
      "cell_type": "code",
      "metadata": {
        "id": "8g8ti6eI5vnR"
      },
      "source": [
        "from sklearn import preprocessing\n",
        "le = preprocessing.LabelEncoder()\n",
        "y = le.fit_transform(y)\n",
        "#test_y = le.fit_transform(test_y)"
      ],
      "execution_count": null,
      "outputs": []
    },
    {
      "cell_type": "code",
      "metadata": {
        "id": "8c2wfCak5xQz"
      },
      "source": [
        "# Splitting the dataset into the Training set and Test set\n",
        "from sklearn.model_selection import train_test_split\n",
        "X_train, X_test, y_train, y_test = train_test_split(X, y, test_size = 0.20, random_state = 42)"
      ],
      "execution_count": null,
      "outputs": []
    },
    {
      "cell_type": "code",
      "metadata": {
        "id": "SZTlN97C52-j"
      },
      "source": [
        "import keras\n",
        "y_train = keras.utils.to_categorical(y_train, num_classes = 4)\n",
        "y_test = keras.utils.to_categorical(y_test, num_classes = 4)"
      ],
      "execution_count": null,
      "outputs": []
    },
    {
      "cell_type": "code",
      "metadata": {
        "id": "gUrk70Zu6FMf"
      },
      "source": [
        "from sklearn.preprocessing import StandardScaler\n",
        "sc = StandardScaler()\n",
        "X_train = sc.fit_transform(X_train)\n",
        "X_test = sc.transform(X_test)"
      ],
      "execution_count": null,
      "outputs": []
    },
    {
      "cell_type": "code",
      "metadata": {
        "id": "cbeSAyTB6HCY"
      },
      "source": [
        "# Part 2 - Now let's make the ANN!\n",
        "# import necessary modules  \n",
        "import pandas  as pd \n",
        "import matplotlib.pyplot as plt \n",
        "import numpy as np \n",
        "from sklearn.linear_model import LogisticRegression \n",
        "from sklearn.preprocessing import StandardScaler \n",
        "from sklearn.metrics import confusion_matrix, classification_report\n",
        "# Importing the Keras libraries and packages\n",
        "import tensorflow.keras\n",
        "from tensorflow.keras.models import Sequential\n",
        "from tensorflow.keras.layers import Dense\n",
        "from tensorflow.keras.layers import Dropout\n",
        "\n",
        "import numpy as np\n",
        "import matplotlib.pyplot as plt\n",
        "\n",
        "import keras\n",
        "from keras.models import Sequential\n",
        "from keras.layers import Dense, Activation\n",
        "from keras.optimizers import SGD"
      ],
      "execution_count": null,
      "outputs": []
    },
    {
      "cell_type": "code",
      "metadata": {
        "id": "RyVf64ta6I96"
      },
      "source": [
        "import numpy as np\n",
        "import matplotlib.pyplot as plt\n",
        "import seaborn as sns\n",
        "\n",
        "import keras\n",
        "from keras.models import Sequential\n",
        "from keras.layers import Dense, Activation\n",
        "from keras.optimizers import SGD\n",
        "\n",
        "from sklearn.metrics import classification_report, confusion_matrix\n",
        "model = Sequential()\n",
        "model.add(Dense(12, activation='relu', input_dim=12))\n",
        "model.add(Dense(6, activation='relu'))\n",
        "model.add(Dense(4, activation='softmax'))\n",
        "sgd = SGD(lr = 0.001, decay = 1e-6, momentum = 0.9, nesterov=True)\n",
        "model.compile(optimizer=sgd,\n",
        "              loss='categorical_crossentropy',\n",
        "              metrics=['accuracy'])"
      ],
      "execution_count": null,
      "outputs": []
    },
    {
      "cell_type": "code",
      "metadata": {
        "colab": {
          "base_uri": "https://localhost:8080/",
          "height": 942
        },
        "id": "bSOc_A4R6LlO",
        "outputId": "b296cf20-5bbf-47e1-8e5d-29be74bc91c4"
      },
      "source": [
        "history = model.fit(X_train, y_train, epochs = 600, batch_size = 16)"
      ],
      "execution_count": null,
      "outputs": [
        {
          "output_type": "stream",
          "text": [
            "Epoch 1/600\n",
            "111/111 [==============================] - 3s 2ms/step - loss: 1.5279 - accuracy: 0.2064\n",
            "Epoch 2/600\n",
            "111/111 [==============================] - 0s 2ms/step - loss: 1.3221 - accuracy: 0.3474\n",
            "Epoch 3/600\n",
            "111/111 [==============================] - 0s 2ms/step - loss: 1.2794 - accuracy: 0.4015\n",
            "Epoch 4/600\n",
            "111/111 [==============================] - 0s 2ms/step - loss: 1.2553 - accuracy: 0.4117\n",
            "Epoch 5/600\n",
            "111/111 [==============================] - 0s 2ms/step - loss: 1.2315 - accuracy: 0.4498\n",
            "Epoch 6/600\n",
            "111/111 [==============================] - 0s 2ms/step - loss: 1.2389 - accuracy: 0.4658\n",
            "Epoch 7/600\n",
            "111/111 [==============================] - 0s 2ms/step - loss: 1.1993 - accuracy: 0.5109\n",
            "Epoch 8/600\n",
            "111/111 [==============================] - 0s 2ms/step - loss: 1.2006 - accuracy: 0.5043\n",
            "Epoch 9/600\n",
            "111/111 [==============================] - 0s 2ms/step - loss: 1.2068 - accuracy: 0.4977\n",
            "Epoch 10/600\n",
            "111/111 [==============================] - 0s 2ms/step - loss: 1.2005 - accuracy: 0.5005\n",
            "Epoch 11/600\n",
            "111/111 [==============================] - 0s 2ms/step - loss: 1.1962 - accuracy: 0.4865\n",
            "Epoch 12/600\n",
            "111/111 [==============================] - 0s 2ms/step - loss: 1.1663 - accuracy: 0.5238\n",
            "Epoch 13/600\n",
            "111/111 [==============================] - 0s 2ms/step - loss: 1.1835 - accuracy: 0.4860\n",
            "Epoch 14/600\n",
            "111/111 [==============================] - 0s 2ms/step - loss: 1.1478 - accuracy: 0.5147\n",
            "Epoch 15/600\n",
            "111/111 [==============================] - 0s 2ms/step - loss: 1.1364 - accuracy: 0.5114\n",
            "Epoch 16/600\n",
            "111/111 [==============================] - 0s 2ms/step - loss: 1.1447 - accuracy: 0.4900\n",
            "Epoch 17/600\n",
            "111/111 [==============================] - 0s 2ms/step - loss: 1.1312 - accuracy: 0.4963\n",
            "Epoch 18/600\n",
            "111/111 [==============================] - 0s 2ms/step - loss: 1.1217 - accuracy: 0.5082\n",
            "Epoch 19/600\n",
            " 77/111 [===================>..........] - ETA: 0s - loss: 1.0748 - accuracy: 0.5473"
          ],
          "name": "stdout"
        },
        {
          "output_type": "error",
          "ename": "KeyboardInterrupt",
          "evalue": "ignored",
          "traceback": [
            "\u001b[0;31m---------------------------------------------------------------------------\u001b[0m",
            "\u001b[0;31mKeyboardInterrupt\u001b[0m                         Traceback (most recent call last)",
            "\u001b[0;32m<ipython-input-12-0f2bb20c090a>\u001b[0m in \u001b[0;36m<module>\u001b[0;34m()\u001b[0m\n\u001b[0;32m----> 1\u001b[0;31m \u001b[0mhistory\u001b[0m \u001b[0;34m=\u001b[0m \u001b[0mmodel\u001b[0m\u001b[0;34m.\u001b[0m\u001b[0mfit\u001b[0m\u001b[0;34m(\u001b[0m\u001b[0mX_train\u001b[0m\u001b[0;34m,\u001b[0m \u001b[0my_train\u001b[0m\u001b[0;34m,\u001b[0m \u001b[0mepochs\u001b[0m \u001b[0;34m=\u001b[0m \u001b[0;36m600\u001b[0m\u001b[0;34m,\u001b[0m \u001b[0mbatch_size\u001b[0m \u001b[0;34m=\u001b[0m \u001b[0;36m16\u001b[0m\u001b[0;34m)\u001b[0m\u001b[0;34m\u001b[0m\u001b[0;34m\u001b[0m\u001b[0m\n\u001b[0m",
            "\u001b[0;32m/usr/local/lib/python3.7/dist-packages/tensorflow/python/keras/engine/training.py\u001b[0m in \u001b[0;36mfit\u001b[0;34m(self, x, y, batch_size, epochs, verbose, callbacks, validation_split, validation_data, shuffle, class_weight, sample_weight, initial_epoch, steps_per_epoch, validation_steps, validation_batch_size, validation_freq, max_queue_size, workers, use_multiprocessing)\u001b[0m\n\u001b[1;32m   1098\u001b[0m                 _r=1):\n\u001b[1;32m   1099\u001b[0m               \u001b[0mcallbacks\u001b[0m\u001b[0;34m.\u001b[0m\u001b[0mon_train_batch_begin\u001b[0m\u001b[0;34m(\u001b[0m\u001b[0mstep\u001b[0m\u001b[0;34m)\u001b[0m\u001b[0;34m\u001b[0m\u001b[0;34m\u001b[0m\u001b[0m\n\u001b[0;32m-> 1100\u001b[0;31m               \u001b[0mtmp_logs\u001b[0m \u001b[0;34m=\u001b[0m \u001b[0mself\u001b[0m\u001b[0;34m.\u001b[0m\u001b[0mtrain_function\u001b[0m\u001b[0;34m(\u001b[0m\u001b[0miterator\u001b[0m\u001b[0;34m)\u001b[0m\u001b[0;34m\u001b[0m\u001b[0;34m\u001b[0m\u001b[0m\n\u001b[0m\u001b[1;32m   1101\u001b[0m               \u001b[0;32mif\u001b[0m \u001b[0mdata_handler\u001b[0m\u001b[0;34m.\u001b[0m\u001b[0mshould_sync\u001b[0m\u001b[0;34m:\u001b[0m\u001b[0;34m\u001b[0m\u001b[0;34m\u001b[0m\u001b[0m\n\u001b[1;32m   1102\u001b[0m                 \u001b[0mcontext\u001b[0m\u001b[0;34m.\u001b[0m\u001b[0masync_wait\u001b[0m\u001b[0;34m(\u001b[0m\u001b[0;34m)\u001b[0m\u001b[0;34m\u001b[0m\u001b[0;34m\u001b[0m\u001b[0m\n",
            "\u001b[0;32m/usr/local/lib/python3.7/dist-packages/tensorflow/python/eager/def_function.py\u001b[0m in \u001b[0;36m__call__\u001b[0;34m(self, *args, **kwds)\u001b[0m\n\u001b[1;32m    826\u001b[0m     \u001b[0mtracing_count\u001b[0m \u001b[0;34m=\u001b[0m \u001b[0mself\u001b[0m\u001b[0;34m.\u001b[0m\u001b[0mexperimental_get_tracing_count\u001b[0m\u001b[0;34m(\u001b[0m\u001b[0;34m)\u001b[0m\u001b[0;34m\u001b[0m\u001b[0;34m\u001b[0m\u001b[0m\n\u001b[1;32m    827\u001b[0m     \u001b[0;32mwith\u001b[0m \u001b[0mtrace\u001b[0m\u001b[0;34m.\u001b[0m\u001b[0mTrace\u001b[0m\u001b[0;34m(\u001b[0m\u001b[0mself\u001b[0m\u001b[0;34m.\u001b[0m\u001b[0m_name\u001b[0m\u001b[0;34m)\u001b[0m \u001b[0;32mas\u001b[0m \u001b[0mtm\u001b[0m\u001b[0;34m:\u001b[0m\u001b[0;34m\u001b[0m\u001b[0;34m\u001b[0m\u001b[0m\n\u001b[0;32m--> 828\u001b[0;31m       \u001b[0mresult\u001b[0m \u001b[0;34m=\u001b[0m \u001b[0mself\u001b[0m\u001b[0;34m.\u001b[0m\u001b[0m_call\u001b[0m\u001b[0;34m(\u001b[0m\u001b[0;34m*\u001b[0m\u001b[0margs\u001b[0m\u001b[0;34m,\u001b[0m \u001b[0;34m**\u001b[0m\u001b[0mkwds\u001b[0m\u001b[0;34m)\u001b[0m\u001b[0;34m\u001b[0m\u001b[0;34m\u001b[0m\u001b[0m\n\u001b[0m\u001b[1;32m    829\u001b[0m       \u001b[0mcompiler\u001b[0m \u001b[0;34m=\u001b[0m \u001b[0;34m\"xla\"\u001b[0m \u001b[0;32mif\u001b[0m \u001b[0mself\u001b[0m\u001b[0;34m.\u001b[0m\u001b[0m_experimental_compile\u001b[0m \u001b[0;32melse\u001b[0m \u001b[0;34m\"nonXla\"\u001b[0m\u001b[0;34m\u001b[0m\u001b[0;34m\u001b[0m\u001b[0m\n\u001b[1;32m    830\u001b[0m       \u001b[0mnew_tracing_count\u001b[0m \u001b[0;34m=\u001b[0m \u001b[0mself\u001b[0m\u001b[0;34m.\u001b[0m\u001b[0mexperimental_get_tracing_count\u001b[0m\u001b[0;34m(\u001b[0m\u001b[0;34m)\u001b[0m\u001b[0;34m\u001b[0m\u001b[0;34m\u001b[0m\u001b[0m\n",
            "\u001b[0;32m/usr/local/lib/python3.7/dist-packages/tensorflow/python/eager/def_function.py\u001b[0m in \u001b[0;36m_call\u001b[0;34m(self, *args, **kwds)\u001b[0m\n\u001b[1;32m    853\u001b[0m       \u001b[0;31m# In this case we have created variables on the first call, so we run the\u001b[0m\u001b[0;34m\u001b[0m\u001b[0;34m\u001b[0m\u001b[0;34m\u001b[0m\u001b[0m\n\u001b[1;32m    854\u001b[0m       \u001b[0;31m# defunned version which is guaranteed to never create variables.\u001b[0m\u001b[0;34m\u001b[0m\u001b[0;34m\u001b[0m\u001b[0;34m\u001b[0m\u001b[0m\n\u001b[0;32m--> 855\u001b[0;31m       \u001b[0;32mreturn\u001b[0m \u001b[0mself\u001b[0m\u001b[0;34m.\u001b[0m\u001b[0m_stateless_fn\u001b[0m\u001b[0;34m(\u001b[0m\u001b[0;34m*\u001b[0m\u001b[0margs\u001b[0m\u001b[0;34m,\u001b[0m \u001b[0;34m**\u001b[0m\u001b[0mkwds\u001b[0m\u001b[0;34m)\u001b[0m  \u001b[0;31m# pylint: disable=not-callable\u001b[0m\u001b[0;34m\u001b[0m\u001b[0;34m\u001b[0m\u001b[0m\n\u001b[0m\u001b[1;32m    856\u001b[0m     \u001b[0;32melif\u001b[0m \u001b[0mself\u001b[0m\u001b[0;34m.\u001b[0m\u001b[0m_stateful_fn\u001b[0m \u001b[0;32mis\u001b[0m \u001b[0;32mnot\u001b[0m \u001b[0;32mNone\u001b[0m\u001b[0;34m:\u001b[0m\u001b[0;34m\u001b[0m\u001b[0;34m\u001b[0m\u001b[0m\n\u001b[1;32m    857\u001b[0m       \u001b[0;31m# Release the lock early so that multiple threads can perform the call\u001b[0m\u001b[0;34m\u001b[0m\u001b[0;34m\u001b[0m\u001b[0;34m\u001b[0m\u001b[0m\n",
            "\u001b[0;32m/usr/local/lib/python3.7/dist-packages/tensorflow/python/eager/function.py\u001b[0m in \u001b[0;36m__call__\u001b[0;34m(self, *args, **kwargs)\u001b[0m\n\u001b[1;32m   2939\u001b[0m     \u001b[0;32mwith\u001b[0m \u001b[0mself\u001b[0m\u001b[0;34m.\u001b[0m\u001b[0m_lock\u001b[0m\u001b[0;34m:\u001b[0m\u001b[0;34m\u001b[0m\u001b[0;34m\u001b[0m\u001b[0m\n\u001b[1;32m   2940\u001b[0m       (graph_function,\n\u001b[0;32m-> 2941\u001b[0;31m        filtered_flat_args) = self._maybe_define_function(args, kwargs)\n\u001b[0m\u001b[1;32m   2942\u001b[0m     return graph_function._call_flat(\n\u001b[1;32m   2943\u001b[0m         filtered_flat_args, captured_inputs=graph_function.captured_inputs)  # pylint: disable=protected-access\n",
            "\u001b[0;32m/usr/local/lib/python3.7/dist-packages/tensorflow/python/eager/function.py\u001b[0m in \u001b[0;36m_maybe_define_function\u001b[0;34m(self, args, kwargs)\u001b[0m\n\u001b[1;32m   3326\u001b[0m           \" hashable.  Original error: %s\" % e)\n\u001b[1;32m   3327\u001b[0m \u001b[0;34m\u001b[0m\u001b[0m\n\u001b[0;32m-> 3328\u001b[0;31m     \u001b[0mgraph_function\u001b[0m \u001b[0;34m=\u001b[0m \u001b[0mself\u001b[0m\u001b[0;34m.\u001b[0m\u001b[0m_function_cache\u001b[0m\u001b[0;34m.\u001b[0m\u001b[0mprimary\u001b[0m\u001b[0;34m.\u001b[0m\u001b[0mget\u001b[0m\u001b[0;34m(\u001b[0m\u001b[0mcache_key\u001b[0m\u001b[0;34m,\u001b[0m \u001b[0;32mNone\u001b[0m\u001b[0;34m)\u001b[0m\u001b[0;34m\u001b[0m\u001b[0;34m\u001b[0m\u001b[0m\n\u001b[0m\u001b[1;32m   3329\u001b[0m     \u001b[0;32mif\u001b[0m \u001b[0mgraph_function\u001b[0m \u001b[0;32mis\u001b[0m \u001b[0;32mnot\u001b[0m \u001b[0;32mNone\u001b[0m\u001b[0;34m:\u001b[0m\u001b[0;34m\u001b[0m\u001b[0;34m\u001b[0m\u001b[0m\n\u001b[1;32m   3330\u001b[0m       \u001b[0;32mreturn\u001b[0m \u001b[0mgraph_function\u001b[0m\u001b[0;34m,\u001b[0m \u001b[0mfiltered_flat_args\u001b[0m\u001b[0;34m\u001b[0m\u001b[0;34m\u001b[0m\u001b[0m\n",
            "\u001b[0;32m/usr/local/lib/python3.7/dist-packages/tensorflow/python/framework/type_spec.py\u001b[0m in \u001b[0;36m__hash__\u001b[0;34m(self)\u001b[0m\n\u001b[1;32m    300\u001b[0m \u001b[0;34m\u001b[0m\u001b[0m\n\u001b[1;32m    301\u001b[0m   \u001b[0;32mdef\u001b[0m \u001b[0m__hash__\u001b[0m\u001b[0;34m(\u001b[0m\u001b[0mself\u001b[0m\u001b[0;34m)\u001b[0m\u001b[0;34m:\u001b[0m\u001b[0;34m\u001b[0m\u001b[0;34m\u001b[0m\u001b[0m\n\u001b[0;32m--> 302\u001b[0;31m     \u001b[0;32mreturn\u001b[0m \u001b[0mhash\u001b[0m\u001b[0;34m(\u001b[0m\u001b[0mself\u001b[0m\u001b[0;34m.\u001b[0m\u001b[0m__get_cmp_key\u001b[0m\u001b[0;34m(\u001b[0m\u001b[0;34m)\u001b[0m\u001b[0;34m)\u001b[0m\u001b[0;34m\u001b[0m\u001b[0;34m\u001b[0m\u001b[0m\n\u001b[0m\u001b[1;32m    303\u001b[0m \u001b[0;34m\u001b[0m\u001b[0m\n\u001b[1;32m    304\u001b[0m   \u001b[0;32mdef\u001b[0m \u001b[0m__reduce__\u001b[0m\u001b[0;34m(\u001b[0m\u001b[0mself\u001b[0m\u001b[0;34m)\u001b[0m\u001b[0;34m:\u001b[0m\u001b[0;34m\u001b[0m\u001b[0;34m\u001b[0m\u001b[0m\n",
            "\u001b[0;32m/usr/local/lib/python3.7/dist-packages/tensorflow/python/framework/type_spec.py\u001b[0m in \u001b[0;36m__get_cmp_key\u001b[0;34m(self)\u001b[0m\n\u001b[1;32m    338\u001b[0m     \u001b[0;34m\"\"\"Returns a hashable eq-comparable key for `self`.\"\"\"\u001b[0m\u001b[0;34m\u001b[0m\u001b[0;34m\u001b[0m\u001b[0m\n\u001b[1;32m    339\u001b[0m     \u001b[0;31m# TODO(b/133606651): Decide whether to cache this value.\u001b[0m\u001b[0;34m\u001b[0m\u001b[0;34m\u001b[0m\u001b[0;34m\u001b[0m\u001b[0m\n\u001b[0;32m--> 340\u001b[0;31m     \u001b[0;32mreturn\u001b[0m \u001b[0;34m(\u001b[0m\u001b[0mtype\u001b[0m\u001b[0;34m(\u001b[0m\u001b[0mself\u001b[0m\u001b[0;34m)\u001b[0m\u001b[0;34m,\u001b[0m \u001b[0mself\u001b[0m\u001b[0;34m.\u001b[0m\u001b[0m__make_cmp_key\u001b[0m\u001b[0;34m(\u001b[0m\u001b[0mself\u001b[0m\u001b[0;34m.\u001b[0m\u001b[0m_serialize\u001b[0m\u001b[0;34m(\u001b[0m\u001b[0;34m)\u001b[0m\u001b[0;34m)\u001b[0m\u001b[0;34m)\u001b[0m\u001b[0;34m\u001b[0m\u001b[0;34m\u001b[0m\u001b[0m\n\u001b[0m\u001b[1;32m    341\u001b[0m \u001b[0;34m\u001b[0m\u001b[0m\n\u001b[1;32m    342\u001b[0m   \u001b[0;32mdef\u001b[0m \u001b[0m__make_cmp_key\u001b[0m\u001b[0;34m(\u001b[0m\u001b[0mself\u001b[0m\u001b[0;34m,\u001b[0m \u001b[0mvalue\u001b[0m\u001b[0;34m)\u001b[0m\u001b[0;34m:\u001b[0m\u001b[0;34m\u001b[0m\u001b[0;34m\u001b[0m\u001b[0m\n",
            "\u001b[0;32m/usr/local/lib/python3.7/dist-packages/tensorflow/python/framework/type_spec.py\u001b[0m in \u001b[0;36m__make_cmp_key\u001b[0;34m(self, value)\u001b[0m\n\u001b[1;32m    355\u001b[0m       ])\n\u001b[1;32m    356\u001b[0m     \u001b[0;32mif\u001b[0m \u001b[0misinstance\u001b[0m\u001b[0;34m(\u001b[0m\u001b[0mvalue\u001b[0m\u001b[0;34m,\u001b[0m \u001b[0mtuple\u001b[0m\u001b[0;34m)\u001b[0m\u001b[0;34m:\u001b[0m\u001b[0;34m\u001b[0m\u001b[0;34m\u001b[0m\u001b[0m\n\u001b[0;32m--> 357\u001b[0;31m       \u001b[0;32mreturn\u001b[0m \u001b[0mtuple\u001b[0m\u001b[0;34m(\u001b[0m\u001b[0;34m[\u001b[0m\u001b[0mself\u001b[0m\u001b[0;34m.\u001b[0m\u001b[0m__make_cmp_key\u001b[0m\u001b[0;34m(\u001b[0m\u001b[0mv\u001b[0m\u001b[0;34m)\u001b[0m \u001b[0;32mfor\u001b[0m \u001b[0mv\u001b[0m \u001b[0;32min\u001b[0m \u001b[0mvalue\u001b[0m\u001b[0;34m]\u001b[0m\u001b[0;34m)\u001b[0m\u001b[0;34m\u001b[0m\u001b[0;34m\u001b[0m\u001b[0m\n\u001b[0m\u001b[1;32m    358\u001b[0m     \u001b[0;32mif\u001b[0m \u001b[0misinstance\u001b[0m\u001b[0;34m(\u001b[0m\u001b[0mvalue\u001b[0m\u001b[0;34m,\u001b[0m \u001b[0mlist\u001b[0m\u001b[0;34m)\u001b[0m\u001b[0;34m:\u001b[0m\u001b[0;34m\u001b[0m\u001b[0;34m\u001b[0m\u001b[0m\n\u001b[1;32m    359\u001b[0m       \u001b[0;32mreturn\u001b[0m \u001b[0;34m(\u001b[0m\u001b[0mlist\u001b[0m\u001b[0;34m,\u001b[0m \u001b[0mtuple\u001b[0m\u001b[0;34m(\u001b[0m\u001b[0;34m[\u001b[0m\u001b[0mself\u001b[0m\u001b[0;34m.\u001b[0m\u001b[0m__make_cmp_key\u001b[0m\u001b[0;34m(\u001b[0m\u001b[0mv\u001b[0m\u001b[0;34m)\u001b[0m \u001b[0;32mfor\u001b[0m \u001b[0mv\u001b[0m \u001b[0;32min\u001b[0m \u001b[0mvalue\u001b[0m\u001b[0;34m]\u001b[0m\u001b[0;34m)\u001b[0m\u001b[0;34m)\u001b[0m\u001b[0;34m\u001b[0m\u001b[0;34m\u001b[0m\u001b[0m\n",
            "\u001b[0;32m/usr/local/lib/python3.7/dist-packages/tensorflow/python/framework/type_spec.py\u001b[0m in \u001b[0;36m<listcomp>\u001b[0;34m(.0)\u001b[0m\n\u001b[1;32m    355\u001b[0m       ])\n\u001b[1;32m    356\u001b[0m     \u001b[0;32mif\u001b[0m \u001b[0misinstance\u001b[0m\u001b[0;34m(\u001b[0m\u001b[0mvalue\u001b[0m\u001b[0;34m,\u001b[0m \u001b[0mtuple\u001b[0m\u001b[0;34m)\u001b[0m\u001b[0;34m:\u001b[0m\u001b[0;34m\u001b[0m\u001b[0;34m\u001b[0m\u001b[0m\n\u001b[0;32m--> 357\u001b[0;31m       \u001b[0;32mreturn\u001b[0m \u001b[0mtuple\u001b[0m\u001b[0;34m(\u001b[0m\u001b[0;34m[\u001b[0m\u001b[0mself\u001b[0m\u001b[0;34m.\u001b[0m\u001b[0m__make_cmp_key\u001b[0m\u001b[0;34m(\u001b[0m\u001b[0mv\u001b[0m\u001b[0;34m)\u001b[0m \u001b[0;32mfor\u001b[0m \u001b[0mv\u001b[0m \u001b[0;32min\u001b[0m \u001b[0mvalue\u001b[0m\u001b[0;34m]\u001b[0m\u001b[0;34m)\u001b[0m\u001b[0;34m\u001b[0m\u001b[0;34m\u001b[0m\u001b[0m\n\u001b[0m\u001b[1;32m    358\u001b[0m     \u001b[0;32mif\u001b[0m \u001b[0misinstance\u001b[0m\u001b[0;34m(\u001b[0m\u001b[0mvalue\u001b[0m\u001b[0;34m,\u001b[0m \u001b[0mlist\u001b[0m\u001b[0;34m)\u001b[0m\u001b[0;34m:\u001b[0m\u001b[0;34m\u001b[0m\u001b[0;34m\u001b[0m\u001b[0m\n\u001b[1;32m    359\u001b[0m       \u001b[0;32mreturn\u001b[0m \u001b[0;34m(\u001b[0m\u001b[0mlist\u001b[0m\u001b[0;34m,\u001b[0m \u001b[0mtuple\u001b[0m\u001b[0;34m(\u001b[0m\u001b[0;34m[\u001b[0m\u001b[0mself\u001b[0m\u001b[0;34m.\u001b[0m\u001b[0m__make_cmp_key\u001b[0m\u001b[0;34m(\u001b[0m\u001b[0mv\u001b[0m\u001b[0;34m)\u001b[0m \u001b[0;32mfor\u001b[0m \u001b[0mv\u001b[0m \u001b[0;32min\u001b[0m \u001b[0mvalue\u001b[0m\u001b[0;34m]\u001b[0m\u001b[0;34m)\u001b[0m\u001b[0;34m)\u001b[0m\u001b[0;34m\u001b[0m\u001b[0;34m\u001b[0m\u001b[0m\n",
            "\u001b[0;32m/usr/local/lib/python3.7/dist-packages/tensorflow/python/framework/type_spec.py\u001b[0m in \u001b[0;36m__make_cmp_key\u001b[0;34m(self, value)\u001b[0m\n\u001b[1;32m    342\u001b[0m   \u001b[0;32mdef\u001b[0m \u001b[0m__make_cmp_key\u001b[0m\u001b[0;34m(\u001b[0m\u001b[0mself\u001b[0m\u001b[0;34m,\u001b[0m \u001b[0mvalue\u001b[0m\u001b[0;34m)\u001b[0m\u001b[0;34m:\u001b[0m\u001b[0;34m\u001b[0m\u001b[0;34m\u001b[0m\u001b[0m\n\u001b[1;32m    343\u001b[0m     \u001b[0;34m\"\"\"Converts `value` to a hashable key.\"\"\"\u001b[0m\u001b[0;34m\u001b[0m\u001b[0;34m\u001b[0m\u001b[0m\n\u001b[0;32m--> 344\u001b[0;31m     \u001b[0;32mif\u001b[0m \u001b[0misinstance\u001b[0m\u001b[0;34m(\u001b[0m\u001b[0mvalue\u001b[0m\u001b[0;34m,\u001b[0m \u001b[0;34m(\u001b[0m\u001b[0mint\u001b[0m\u001b[0;34m,\u001b[0m \u001b[0mfloat\u001b[0m\u001b[0;34m,\u001b[0m \u001b[0mbool\u001b[0m\u001b[0;34m,\u001b[0m \u001b[0mdtypes\u001b[0m\u001b[0;34m.\u001b[0m\u001b[0mDType\u001b[0m\u001b[0;34m,\u001b[0m \u001b[0mTypeSpec\u001b[0m\u001b[0;34m)\u001b[0m\u001b[0;34m)\u001b[0m\u001b[0;34m:\u001b[0m\u001b[0;34m\u001b[0m\u001b[0;34m\u001b[0m\u001b[0m\n\u001b[0m\u001b[1;32m    345\u001b[0m       \u001b[0;32mreturn\u001b[0m \u001b[0mvalue\u001b[0m\u001b[0;34m\u001b[0m\u001b[0;34m\u001b[0m\u001b[0m\n\u001b[1;32m    346\u001b[0m     \u001b[0;32mif\u001b[0m \u001b[0misinstance\u001b[0m\u001b[0;34m(\u001b[0m\u001b[0mvalue\u001b[0m\u001b[0;34m,\u001b[0m \u001b[0mcompat\u001b[0m\u001b[0;34m.\u001b[0m\u001b[0mbytes_or_text_types\u001b[0m\u001b[0;34m)\u001b[0m\u001b[0;34m:\u001b[0m\u001b[0;34m\u001b[0m\u001b[0;34m\u001b[0m\u001b[0m\n",
            "\u001b[0;32m/usr/lib/python3.7/abc.py\u001b[0m in \u001b[0;36m__instancecheck__\u001b[0;34m(cls, instance)\u001b[0m\n\u001b[1;32m    135\u001b[0m             \u001b[0;32mreturn\u001b[0m \u001b[0m_abc_register\u001b[0m\u001b[0;34m(\u001b[0m\u001b[0mcls\u001b[0m\u001b[0;34m,\u001b[0m \u001b[0msubclass\u001b[0m\u001b[0;34m)\u001b[0m\u001b[0;34m\u001b[0m\u001b[0;34m\u001b[0m\u001b[0m\n\u001b[1;32m    136\u001b[0m \u001b[0;34m\u001b[0m\u001b[0m\n\u001b[0;32m--> 137\u001b[0;31m         \u001b[0;32mdef\u001b[0m \u001b[0m__instancecheck__\u001b[0m\u001b[0;34m(\u001b[0m\u001b[0mcls\u001b[0m\u001b[0;34m,\u001b[0m \u001b[0minstance\u001b[0m\u001b[0;34m)\u001b[0m\u001b[0;34m:\u001b[0m\u001b[0;34m\u001b[0m\u001b[0;34m\u001b[0m\u001b[0m\n\u001b[0m\u001b[1;32m    138\u001b[0m             \u001b[0;34m\"\"\"Override for isinstance(instance, cls).\"\"\"\u001b[0m\u001b[0;34m\u001b[0m\u001b[0;34m\u001b[0m\u001b[0m\n\u001b[1;32m    139\u001b[0m             \u001b[0;32mreturn\u001b[0m \u001b[0m_abc_instancecheck\u001b[0m\u001b[0;34m(\u001b[0m\u001b[0mcls\u001b[0m\u001b[0;34m,\u001b[0m \u001b[0minstance\u001b[0m\u001b[0;34m)\u001b[0m\u001b[0;34m\u001b[0m\u001b[0;34m\u001b[0m\u001b[0m\n",
            "\u001b[0;31mKeyboardInterrupt\u001b[0m: "
          ]
        }
      ]
    },
    {
      "cell_type": "code",
      "metadata": {
        "colab": {
          "base_uri": "https://localhost:8080/"
        },
        "id": "0VcSO1gv6PbF",
        "outputId": "fdd60256-21a8-41d8-a23f-426ef7c06120"
      },
      "source": [
        "score = model.evaluate(X_test, y_test, verbose = 0)\n",
        "print('Test score:', score[0])\n",
        "print('Test accuracy:', score[1])\n",
        "y_pred = model.predict(X_test)"
      ],
      "execution_count": null,
      "outputs": [
        {
          "output_type": "stream",
          "text": [
            "Test score: 1.1220768690109253\n",
            "Test accuracy: 0.48752835392951965\n"
          ],
          "name": "stdout"
        }
      ]
    },
    {
      "cell_type": "code",
      "metadata": {
        "colab": {
          "base_uri": "https://localhost:8080/"
        },
        "id": "w4QI9p4XNewt",
        "outputId": "fad5bd11-1c84-414d-eea8-90094e3c1b22"
      },
      "source": [
        "np.argmax(y_pred, axis=1)"
      ],
      "execution_count": null,
      "outputs": [
        {
          "output_type": "execute_result",
          "data": {
            "text/plain": [
              "array([3, 0, 0, 3, 0, 3, 0, 1, 0, 0, 0, 3, 0, 0, 0, 3, 0, 3, 3, 0, 0, 2,\n",
              "       3, 0, 3, 1, 0, 0, 1, 3, 1, 3, 0, 0, 0, 0, 0, 3, 0, 3, 0, 3, 0, 3,\n",
              "       0, 0, 0, 0, 3, 2, 0, 3, 0, 0, 0, 0, 0, 3, 0, 3, 3, 0, 0, 3, 3, 3,\n",
              "       2, 1, 0, 3, 0, 3, 3, 0, 3, 0, 0, 2, 3, 0, 3, 0, 0, 3, 3, 2, 0, 3,\n",
              "       0, 1, 0, 0, 0, 0, 2, 0, 3, 0, 0, 3, 0, 2, 3, 3, 1, 1, 0, 0, 0, 0,\n",
              "       3, 3, 0, 3, 3, 0, 3, 0, 3, 0, 0, 3, 0, 0, 0, 3, 3, 0, 0, 1, 0, 0,\n",
              "       0, 0, 3, 0, 0, 0, 0, 1, 0, 3, 0, 0, 0, 0, 3, 0, 3, 3, 2, 3, 0, 0,\n",
              "       0, 0, 0, 0, 0, 3, 0, 0, 0, 0, 0, 3, 0, 3, 0, 1, 0, 3, 3, 0, 3, 0,\n",
              "       0, 1, 0, 3, 1, 0, 1, 0, 0, 0, 3, 3, 3, 3, 0, 0, 3, 0, 0, 0, 2, 3,\n",
              "       3, 0, 0, 0, 0, 0, 0, 3, 0, 3, 2, 0, 0, 3, 0, 2, 0, 0, 3, 0, 0, 3,\n",
              "       0, 3, 0, 0, 1, 0, 1, 0, 3, 0, 0, 3, 0, 1, 0, 3, 0, 0, 0, 3, 3, 0,\n",
              "       3, 0, 3, 3, 0, 3, 1, 0, 0, 1, 0, 0, 3, 2, 2, 0, 3, 3, 0, 0, 0, 1,\n",
              "       0, 3, 3, 3, 3, 0, 3, 0, 0, 0, 0, 3, 3, 3, 3, 0, 3, 3, 1, 3, 0, 0,\n",
              "       0, 3, 0, 0, 3, 0, 0, 0, 3, 3, 3, 1, 0, 0, 0, 0, 0, 3, 0, 3, 0, 3,\n",
              "       3, 0, 3, 3, 3, 3, 0, 3, 0, 0, 2, 0, 0, 0, 3, 0, 3, 3, 0, 3, 0, 2,\n",
              "       0, 3, 0, 0, 0, 3, 0, 0, 0, 0, 0, 0, 0, 3, 0, 0, 0, 2, 1, 0, 3, 3,\n",
              "       3, 3, 3, 0, 3, 3, 0, 0, 0, 3, 3, 0, 1, 0, 3, 3, 3, 3, 0, 0, 0, 0,\n",
              "       3, 0, 1, 3, 0, 0, 0, 0, 3, 3, 1, 0, 0, 0, 0, 1, 0, 1, 0, 0, 3, 0,\n",
              "       3, 0, 0, 0, 3, 3, 1, 0, 3, 0, 0, 0, 0, 0, 3, 0, 0, 3, 3, 0, 3, 1,\n",
              "       0, 0, 0, 3, 0, 0, 0, 3, 0, 3, 0, 3, 3, 3, 0, 0, 3, 3, 0, 0, 0, 3,\n",
              "       3])"
            ]
          },
          "metadata": {
            "tags": []
          },
          "execution_count": 14
        }
      ]
    },
    {
      "cell_type": "code",
      "metadata": {
        "colab": {
          "base_uri": "https://localhost:8080/"
        },
        "id": "jkx59Gm86YTQ",
        "outputId": "e6bd8d45-440d-429e-e9f3-651a50e6dcf8"
      },
      "source": [
        "y_test_class = np.argmax(y_test, axis=1)\n",
        "y_pred_class = np.argmax(y_pred, axis=1)\n",
        "\n",
        "print(classification_report(y_test_class, y_pred_class))\n",
        "print(confusion_matrix(y_test_class, y_pred_class))"
      ],
      "execution_count": null,
      "outputs": [
        {
          "output_type": "stream",
          "text": [
            "              precision    recall  f1-score   support\n",
            "\n",
            "           0       0.48      0.76      0.59       152\n",
            "           1       0.43      0.17      0.25        75\n",
            "           2       0.44      0.08      0.13        91\n",
            "           3       0.52      0.64      0.57       123\n",
            "\n",
            "    accuracy                           0.49       441\n",
            "   macro avg       0.47      0.41      0.39       441\n",
            "weighted avg       0.47      0.49      0.43       441\n",
            "\n",
            "[[116   9   3  24]\n",
            " [ 36  13   4  22]\n",
            " [ 49   8   7  27]\n",
            " [ 42   0   2  79]]\n"
          ],
          "name": "stdout"
        }
      ]
    },
    {
      "cell_type": "code",
      "metadata": {
        "id": "KH1VYqB1VgaQ"
      },
      "source": [
        "model.save('accumulator.h5')"
      ],
      "execution_count": null,
      "outputs": []
    },
    {
      "cell_type": "code",
      "metadata": {
        "colab": {
          "base_uri": "https://localhost:8080/",
          "height": 468
        },
        "id": "BJj-01Nx6f34",
        "outputId": "62d0af6d-8bd0-48b1-9f64-76f695442a3d"
      },
      "source": [
        "from sklearn.inspection import permutation_importance\n",
        "from matplotlib import pyplot\n",
        "# perform permutation importance\n",
        "results = permutation_importance(model, X_train, y_train, scoring='neg_mean_squared_error')\n",
        "# get importance\n",
        "importance = results.importances_mean\n",
        "# summarize feature importance\n",
        "for i,v in enumerate(importance):\n",
        "\tprint('Feature: %0d, Score: %.5f' % (i,v))\n",
        "# plot feature importance\n",
        "pyplot.bar([x for x in range(len(importance))], importance)\n",
        "pyplot.show()"
      ],
      "execution_count": null,
      "outputs": [
        {
          "output_type": "stream",
          "text": [
            "Feature: 0, Score: 0.00814\n",
            "Feature: 1, Score: 0.00524\n",
            "Feature: 2, Score: 0.01561\n",
            "Feature: 3, Score: 0.00889\n",
            "Feature: 4, Score: 0.00734\n",
            "Feature: 5, Score: 0.01755\n",
            "Feature: 6, Score: 0.00884\n",
            "Feature: 7, Score: 0.01056\n",
            "Feature: 8, Score: 0.01663\n",
            "Feature: 9, Score: 0.01296\n",
            "Feature: 10, Score: 0.02421\n",
            "Feature: 11, Score: 0.00742\n"
          ],
          "name": "stdout"
        },
        {
          "output_type": "display_data",
          "data": {
            "image/png": "[encoded data removed]",
            "text/plain": [
              "<Figure size 432x288 with 1 Axes>"
            ]
          },
          "metadata": {
            "tags": [],
            "needs_background": "light"
          }
        }
      ]
    },
    {
      "cell_type": "code",
      "metadata": {
        "colab": {
          "base_uri": "https://localhost:8080/"
        },
        "id": "tLC9uQJCFhL7",
        "outputId": "f6294848-cfa6-475a-cf05-242b55e7d527"
      },
      "source": [
        "pip install eli5"
      ],
      "execution_count": null,
      "outputs": [
        {
          "output_type": "stream",
          "text": [
            "Collecting eli5\n",
            "\u001b[?25l  Downloading https://files.pythonhosted.org/packages/d1/54/04cab6e1c0ae535bec93f795d8403fdf6caf66fa5a6512263202dbb14ea6/eli5-0.11.0-py2.py3-none-any.whl (106kB)\n",
            "\r\u001b[K     |███                             | 10kB 25.0MB/s eta 0:00:01\r\u001b[K     |██████▏                         | 20kB 16.7MB/s eta 0:00:01\r\u001b[K     |█████████▎                      | 30kB 14.2MB/s eta 0:00:01\r\u001b[K     |████████████▍                   | 40kB 13.0MB/s eta 0:00:01\r\u001b[K     |███████████████▌                | 51kB 8.8MB/s eta 0:00:01\r\u001b[K     |██████████████████▌             | 61kB 9.2MB/s eta 0:00:01\r\u001b[K     |█████████████████████▋          | 71kB 10.4MB/s eta 0:00:01\r\u001b[K     |████████████████████████▊       | 81kB 10.7MB/s eta 0:00:01\r\u001b[K     |███████████████████████████▉    | 92kB 9.3MB/s eta 0:00:01\r\u001b[K     |███████████████████████████████ | 102kB 8.5MB/s eta 0:00:01\r\u001b[K     |████████████████████████████████| 112kB 8.5MB/s \n",
            "\u001b[?25hRequirement already satisfied: scipy in /usr/local/lib/python3.7/dist-packages (from eli5) (1.4.1)\n",
            "Requirement already satisfied: six in /usr/local/lib/python3.7/dist-packages (from eli5) (1.15.0)\n",
            "Requirement already satisfied: graphviz in /usr/local/lib/python3.7/dist-packages (from eli5) (0.10.1)\n",
            "Requirement already satisfied: jinja2 in /usr/local/lib/python3.7/dist-packages (from eli5) (2.11.3)\n",
            "Requirement already satisfied: scikit-learn>=0.20 in /usr/local/lib/python3.7/dist-packages (from eli5) (0.22.2.post1)\n",
            "Requirement already satisfied: tabulate>=0.7.7 in /usr/local/lib/python3.7/dist-packages (from eli5) (0.8.9)\n",
            "Requirement already satisfied: attrs>16.0.0 in /usr/local/lib/python3.7/dist-packages (from eli5) (20.3.0)\n",
            "Requirement already satisfied: numpy>=1.9.0 in /usr/local/lib/python3.7/dist-packages (from eli5) (1.19.5)\n",
            "Requirement already satisfied: MarkupSafe>=0.23 in /usr/local/lib/python3.7/dist-packages (from jinja2->eli5) (1.1.1)\n",
            "Requirement already satisfied: joblib>=0.11 in /usr/local/lib/python3.7/dist-packages (from scikit-learn>=0.20->eli5) (1.0.1)\n",
            "Installing collected packages: eli5\n",
            "Successfully installed eli5-0.11.0\n"
          ],
          "name": "stdout"
        }
      ]
    },
    {
      "cell_type": "code",
      "metadata": {
        "colab": {
          "base_uri": "https://localhost:8080/"
        },
        "id": "qi_b7_o6Mhve",
        "outputId": "699dc602-bddd-459c-ddfe-29728b0b4583"
      },
      "source": [
        "#Install non-standard packages (assuming jupyter notebook)\n",
        "!pip install shap\n",
        "!pip install lime\n",
        "!pip install eli5"
      ],
      "execution_count": null,
      "outputs": [
        {
          "output_type": "stream",
          "text": [
            "Collecting shap\n",
            "\u001b[?25l  Downloading https://files.pythonhosted.org/packages/b9/f4/c5b95cddae15be80f8e58b25edceca105aa83c0b8c86a1edad24a6af80d3/shap-0.39.0.tar.gz (356kB)\n",
            "\r\u001b[K     |█                               | 10kB 20.9MB/s eta 0:00:01\r\u001b[K     |█▉                              | 20kB 16.4MB/s eta 0:00:01\r\u001b[K     |██▊                             | 30kB 14.6MB/s eta 0:00:01\r\u001b[K     |███▊                            | 40kB 13.9MB/s eta 0:00:01\r\u001b[K     |████▋                           | 51kB 9.4MB/s eta 0:00:01\r\u001b[K     |█████▌                          | 61kB 10.7MB/s eta 0:00:01\r\u001b[K     |██████▍                         | 71kB 9.8MB/s eta 0:00:01\r\u001b[K     |███████▍                        | 81kB 10.7MB/s eta 0:00:01\r\u001b[K     |████████▎                       | 92kB 9.9MB/s eta 0:00:01\r\u001b[K     |█████████▏                      | 102kB 8.9MB/s eta 0:00:01\r\u001b[K     |██████████▏                     | 112kB 8.9MB/s eta 0:00:01\r\u001b[K     |███████████                     | 122kB 8.9MB/s eta 0:00:01\r\u001b[K     |████████████                    | 133kB 8.9MB/s eta 0:00:01\r\u001b[K     |████████████▉                   | 143kB 8.9MB/s eta 0:00:01\r\u001b[K     |█████████████▉                  | 153kB 8.9MB/s eta 0:00:01\r\u001b[K     |██████████████▊                 | 163kB 8.9MB/s eta 0:00:01\r\u001b[K     |███████████████▋                | 174kB 8.9MB/s eta 0:00:01\r\u001b[K     |████████████████▋               | 184kB 8.9MB/s eta 0:00:01\r\u001b[K     |█████████████████▌              | 194kB 8.9MB/s eta 0:00:01\r\u001b[K     |██████████████████▍             | 204kB 8.9MB/s eta 0:00:01\r\u001b[K     |███████████████████▎            | 215kB 8.9MB/s eta 0:00:01\r\u001b[K     |████████████████████▎           | 225kB 8.9MB/s eta 0:00:01\r\u001b[K     |█████████████████████▏          | 235kB 8.9MB/s eta 0:00:01\r\u001b[K     |██████████████████████          | 245kB 8.9MB/s eta 0:00:01\r\u001b[K     |███████████████████████         | 256kB 8.9MB/s eta 0:00:01\r\u001b[K     |████████████████████████        | 266kB 8.9MB/s eta 0:00:01\r\u001b[K     |████████████████████████▉       | 276kB 8.9MB/s eta 0:00:01\r\u001b[K     |█████████████████████████▊      | 286kB 8.9MB/s eta 0:00:01\r\u001b[K     |██████████████████████████▊     | 296kB 8.9MB/s eta 0:00:01\r\u001b[K     |███████████████████████████▋    | 307kB 8.9MB/s eta 0:00:01\r\u001b[K     |████████████████████████████▌   | 317kB 8.9MB/s eta 0:00:01\r\u001b[K     |█████████████████████████████▍  | 327kB 8.9MB/s eta 0:00:01\r\u001b[K     |██████████████████████████████▍ | 337kB 8.9MB/s eta 0:00:01\r\u001b[K     |███████████████████████████████▎| 348kB 8.9MB/s eta 0:00:01\r\u001b[K     |████████████████████████████████| 358kB 8.9MB/s \n",
            "\u001b[?25hRequirement already satisfied: numpy in /usr/local/lib/python3.7/dist-packages (from shap) (1.19.5)\n",
            "Requirement already satisfied: scipy in /usr/local/lib/python3.7/dist-packages (from shap) (1.4.1)\n",
            "Requirement already satisfied: scikit-learn in /usr/local/lib/python3.7/dist-packages (from shap) (0.22.2.post1)\n",
            "Requirement already satisfied: pandas in /usr/local/lib/python3.7/dist-packages (from shap) (1.1.5)\n",
            "Requirement already satisfied: tqdm>4.25.0 in /usr/local/lib/python3.7/dist-packages (from shap) (4.41.1)\n",
            "Collecting slicer==0.0.7\n",
            "  Downloading https://files.pythonhosted.org/packages/78/c2/b3f55dfdb8af9812fdb9baf70cacf3b9e82e505b2bd4324d588888b81202/slicer-0.0.7-py3-none-any.whl\n",
            "Requirement already satisfied: numba in /usr/local/lib/python3.7/dist-packages (from shap) (0.51.2)\n",
            "Requirement already satisfied: cloudpickle in /usr/local/lib/python3.7/dist-packages (from shap) (1.3.0)\n",
            "Requirement already satisfied: joblib>=0.11 in /usr/local/lib/python3.7/dist-packages (from scikit-learn->shap) (1.0.1)\n",
            "Requirement already satisfied: pytz>=2017.2 in /usr/local/lib/python3.7/dist-packages (from pandas->shap) (2018.9)\n",
            "Requirement already satisfied: python-dateutil>=2.7.3 in /usr/local/lib/python3.7/dist-packages (from pandas->shap) (2.8.1)\n",
            "Requirement already satisfied: setuptools in /usr/local/lib/python3.7/dist-packages (from numba->shap) (54.1.2)\n",
            "Requirement already satisfied: llvmlite<0.35,>=0.34.0.dev0 in /usr/local/lib/python3.7/dist-packages (from numba->shap) (0.34.0)\n",
            "Requirement already satisfied: six>=1.5 in /usr/local/lib/python3.7/dist-packages (from python-dateutil>=2.7.3->pandas->shap) (1.15.0)\n",
            "Building wheels for collected packages: shap\n",
            "  Building wheel for shap (setup.py) ... \u001b[?25l\u001b[?25hdone\n",
            "  Created wheel for shap: filename=shap-0.39.0-cp37-cp37m-linux_x86_64.whl size=491623 sha256=54d1e8a731d0eab341cede416448e4d09fe43bb7440d3788facca827e5a6a0e0\n",
            "  Stored in directory: /root/.cache/pip/wheels/15/27/f5/a8ab9da52fd159aae6477b5ede6eaaec69fd130fa0fa59f283\n",
            "Successfully built shap\n",
            "Installing collected packages: slicer, shap\n",
            "Successfully installed shap-0.39.0 slicer-0.0.7\n",
            "Collecting lime\n",
            "\u001b[?25l  Downloading https://files.pythonhosted.org/packages/f5/86/91a13127d83d793ecb50eb75e716f76e6eda809b6803c5a4ff462339789e/lime-0.2.0.1.tar.gz (275kB)\n",
            "\u001b[K     |████████████████████████████████| 276kB 8.1MB/s \n",
            "\u001b[?25hRequirement already satisfied: matplotlib in /usr/local/lib/python3.7/dist-packages (from lime) (3.2.2)\n",
            "Requirement already satisfied: numpy in /usr/local/lib/python3.7/dist-packages (from lime) (1.19.5)\n",
            "Requirement already satisfied: scipy in /usr/local/lib/python3.7/dist-packages (from lime) (1.4.1)\n",
            "Requirement already satisfied: tqdm in /usr/local/lib/python3.7/dist-packages (from lime) (4.41.1)\n",
            "Requirement already satisfied: scikit-learn>=0.18 in /usr/local/lib/python3.7/dist-packages (from lime) (0.22.2.post1)\n",
            "Requirement already satisfied: scikit-image>=0.12 in /usr/local/lib/python3.7/dist-packages (from lime) (0.16.2)\n",
            "Requirement already satisfied: cycler>=0.10 in /usr/local/lib/python3.7/dist-packages (from matplotlib->lime) (0.10.0)\n",
            "Requirement already satisfied: kiwisolver>=1.0.1 in /usr/local/lib/python3.7/dist-packages (from matplotlib->lime) (1.3.1)\n",
            "Requirement already satisfied: pyparsing!=2.0.4,!=2.1.2,!=2.1.6,>=2.0.1 in /usr/local/lib/python3.7/dist-packages (from matplotlib->lime) (2.4.7)\n",
            "Requirement already satisfied: python-dateutil>=2.1 in /usr/local/lib/python3.7/dist-packages (from matplotlib->lime) (2.8.1)\n",
            "Requirement already satisfied: joblib>=0.11 in /usr/local/lib/python3.7/dist-packages (from scikit-learn>=0.18->lime) (1.0.1)\n",
            "Requirement already satisfied: imageio>=2.3.0 in /usr/local/lib/python3.7/dist-packages (from scikit-image>=0.12->lime) (2.4.1)\n",
            "Requirement already satisfied: networkx>=2.0 in /usr/local/lib/python3.7/dist-packages (from scikit-image>=0.12->lime) (2.5)\n",
            "Requirement already satisfied: PyWavelets>=0.4.0 in /usr/local/lib/python3.7/dist-packages (from scikit-image>=0.12->lime) (1.1.1)\n",
            "Requirement already satisfied: pillow>=4.3.0 in /usr/local/lib/python3.7/dist-packages (from scikit-image>=0.12->lime) (7.0.0)\n",
            "Requirement already satisfied: six in /usr/local/lib/python3.7/dist-packages (from cycler>=0.10->matplotlib->lime) (1.15.0)\n",
            "Requirement already satisfied: decorator>=4.3.0 in /usr/local/lib/python3.7/dist-packages (from networkx>=2.0->scikit-image>=0.12->lime) (4.4.2)\n",
            "Building wheels for collected packages: lime\n",
            "  Building wheel for lime (setup.py) ... \u001b[?25l\u001b[?25hdone\n",
            "  Created wheel for lime: filename=lime-0.2.0.1-cp37-none-any.whl size=283846 sha256=bec4aa7ec81cfda00f04bf5d5658453e2441efcede6b8cc7c765d2d49624c2da\n",
            "  Stored in directory: /root/.cache/pip/wheels/4c/4f/a5/0bc765457bd41378bf3ce8d17d7495369d6e7ca3b712c60c89\n",
            "Successfully built lime\n",
            "Installing collected packages: lime\n",
            "Successfully installed lime-0.2.0.1\n",
            "Requirement already satisfied: eli5 in /usr/local/lib/python3.7/dist-packages (0.11.0)\n",
            "Requirement already satisfied: jinja2 in /usr/local/lib/python3.7/dist-packages (from eli5) (2.11.3)\n",
            "Requirement already satisfied: numpy>=1.9.0 in /usr/local/lib/python3.7/dist-packages (from eli5) (1.19.5)\n",
            "Requirement already satisfied: scipy in /usr/local/lib/python3.7/dist-packages (from eli5) (1.4.1)\n",
            "Requirement already satisfied: graphviz in /usr/local/lib/python3.7/dist-packages (from eli5) (0.10.1)\n",
            "Requirement already satisfied: attrs>16.0.0 in /usr/local/lib/python3.7/dist-packages (from eli5) (20.3.0)\n",
            "Requirement already satisfied: scikit-learn>=0.20 in /usr/local/lib/python3.7/dist-packages (from eli5) (0.22.2.post1)\n",
            "Requirement already satisfied: tabulate>=0.7.7 in /usr/local/lib/python3.7/dist-packages (from eli5) (0.8.9)\n",
            "Requirement already satisfied: six in /usr/local/lib/python3.7/dist-packages (from eli5) (1.15.0)\n",
            "Requirement already satisfied: MarkupSafe>=0.23 in /usr/local/lib/python3.7/dist-packages (from jinja2->eli5) (1.1.1)\n",
            "Requirement already satisfied: joblib>=0.11 in /usr/local/lib/python3.7/dist-packages (from scikit-learn>=0.20->eli5) (1.0.1)\n"
          ],
          "name": "stdout"
        }
      ]
    },
    {
      "cell_type": "code",
      "metadata": {
        "colab": {
          "base_uri": "https://localhost:8080/",
          "height": 195
        },
        "id": "J-7A8PuBXzIe",
        "outputId": "a5c88796-516b-4053-90ad-6515f81dd123"
      },
      "source": [
        "X.head()"
      ],
      "execution_count": null,
      "outputs": [
        {
          "output_type": "execute_result",
          "data": {
            "text/html": [
              "<div>\n",
              "<style scoped>\n",
              "    .dataframe tbody tr th:only-of-type {\n",
              "        vertical-align: middle;\n",
              "    }\n",
              "\n",
              "    .dataframe tbody tr th {\n",
              "        vertical-align: top;\n",
              "    }\n",
              "\n",
              "    .dataframe thead th {\n",
              "        text-align: right;\n",
              "    }\n",
              "</style>\n",
              "<table border=\"1\" class=\"dataframe\">\n",
              "  <thead>\n",
              "    <tr style=\"text-align: right;\">\n",
              "      <th></th>\n",
              "      <th>PS1</th>\n",
              "      <th>PS3</th>\n",
              "      <th>PS4</th>\n",
              "      <th>PS5</th>\n",
              "      <th>FS1</th>\n",
              "      <th>FS2</th>\n",
              "      <th>TS1</th>\n",
              "      <th>P1</th>\n",
              "      <th>VS1</th>\n",
              "      <th>CE1</th>\n",
              "      <th>CP1</th>\n",
              "      <th>SE1</th>\n",
              "    </tr>\n",
              "  </thead>\n",
              "  <tbody>\n",
              "    <tr>\n",
              "      <th>0</th>\n",
              "      <td>160.673492</td>\n",
              "      <td>1.991475</td>\n",
              "      <td>0.0</td>\n",
              "      <td>9.842170</td>\n",
              "      <td>6.709815</td>\n",
              "      <td>10.304592</td>\n",
              "      <td>35.621983</td>\n",
              "      <td>2538.929167</td>\n",
              "      <td>0.576950</td>\n",
              "      <td>39.601350</td>\n",
              "      <td>1.862750</td>\n",
              "      <td>59.157183</td>\n",
              "    </tr>\n",
              "    <tr>\n",
              "      <th>1</th>\n",
              "      <td>160.603320</td>\n",
              "      <td>1.976234</td>\n",
              "      <td>0.0</td>\n",
              "      <td>9.635142</td>\n",
              "      <td>6.715315</td>\n",
              "      <td>10.403098</td>\n",
              "      <td>36.676967</td>\n",
              "      <td>2531.498900</td>\n",
              "      <td>0.565850</td>\n",
              "      <td>25.786433</td>\n",
              "      <td>1.255550</td>\n",
              "      <td>59.335617</td>\n",
              "    </tr>\n",
              "    <tr>\n",
              "      <th>2</th>\n",
              "      <td>160.347720</td>\n",
              "      <td>1.972224</td>\n",
              "      <td>0.0</td>\n",
              "      <td>9.530548</td>\n",
              "      <td>6.718522</td>\n",
              "      <td>10.366250</td>\n",
              "      <td>37.880800</td>\n",
              "      <td>2519.928000</td>\n",
              "      <td>0.576533</td>\n",
              "      <td>25.786433</td>\n",
              "      <td>1.113217</td>\n",
              "      <td>59.543150</td>\n",
              "    </tr>\n",
              "    <tr>\n",
              "      <th>3</th>\n",
              "      <td>160.188088</td>\n",
              "      <td>1.946575</td>\n",
              "      <td>0.0</td>\n",
              "      <td>9.438827</td>\n",
              "      <td>6.720565</td>\n",
              "      <td>10.302678</td>\n",
              "      <td>38.879050</td>\n",
              "      <td>2511.541633</td>\n",
              "      <td>0.569267</td>\n",
              "      <td>20.459817</td>\n",
              "      <td>1.062150</td>\n",
              "      <td>59.794900</td>\n",
              "    </tr>\n",
              "    <tr>\n",
              "      <th>4</th>\n",
              "      <td>160.000472</td>\n",
              "      <td>1.922707</td>\n",
              "      <td>0.0</td>\n",
              "      <td>9.358762</td>\n",
              "      <td>6.690308</td>\n",
              "      <td>10.237750</td>\n",
              "      <td>39.803917</td>\n",
              "      <td>2503.449500</td>\n",
              "      <td>0.577367</td>\n",
              "      <td>19.787017</td>\n",
              "      <td>1.070467</td>\n",
              "      <td>59.455267</td>\n",
              "    </tr>\n",
              "  </tbody>\n",
              "</table>\n",
              "</div>"
            ],
            "text/plain": [
              "          PS1       PS3  PS4  ...        CE1       CP1        SE1\n",
              "0  160.673492  1.991475  0.0  ...  39.601350  1.862750  59.157183\n",
              "1  160.603320  1.976234  0.0  ...  25.786433  1.255550  59.335617\n",
              "2  160.347720  1.972224  0.0  ...  25.786433  1.113217  59.543150\n",
              "3  160.188088  1.946575  0.0  ...  20.459817  1.062150  59.794900\n",
              "4  160.000472  1.922707  0.0  ...  19.787017  1.070467  59.455267\n",
              "\n",
              "[5 rows x 12 columns]"
            ]
          },
          "metadata": {
            "tags": []
          },
          "execution_count": 19
        }
      ]
    },
    {
      "cell_type": "code",
      "metadata": {
        "id": "WlfHMPxDI4J8"
      },
      "source": [
        "from sklearn.metrics import accuracy_score,mean_absolute_error\n",
        "from sklearn.tree import DecisionTreeClassifier    \n",
        "from sklearn.metrics import classification_report, confusion_matrix"
      ],
      "execution_count": null,
      "outputs": []
    },
    {
      "cell_type": "code",
      "metadata": {
        "id": "fp51DN_1J-uN"
      },
      "source": [
        "from sklearn.tree import DecisionTreeClassifier \n",
        "from sklearn.metrics import accuracy_score,mean_absolute_error\n",
        "clf_gini = DecisionTreeClassifier(criterion = \"entropy\",               # Criterion\n",
        "                                  max_depth = 6,  \n",
        "                                   # Max Height of Tree\n",
        "                                  min_samples_leaf = 10,              # Maximum Leaf samples\n",
        "                                  random_state = 100)"
      ],
      "execution_count": null,
      "outputs": []
    },
    {
      "cell_type": "code",
      "metadata": {
        "colab": {
          "base_uri": "https://localhost:8080/"
        },
        "id": "vQv18r73KNjO",
        "outputId": "bc81bae5-2749-4568-e73d-197021681867"
      },
      "source": [
        "clf_gini.fit(X_train, y_train)"
      ],
      "execution_count": null,
      "outputs": [
        {
          "output_type": "execute_result",
          "data": {
            "text/plain": [
              "DecisionTreeClassifier(ccp_alpha=0.0, class_weight=None, criterion='entropy',\n",
              "                       max_depth=6, max_features=None, max_leaf_nodes=None,\n",
              "                       min_impurity_decrease=0.0, min_impurity_split=None,\n",
              "                       min_samples_leaf=10, min_samples_split=2,\n",
              "                       min_weight_fraction_leaf=0.0, presort='deprecated',\n",
              "                       random_state=100, splitter='best')"
            ]
          },
          "metadata": {
            "tags": []
          },
          "execution_count": 22
        }
      ]
    },
    {
      "cell_type": "code",
      "metadata": {
        "id": "iZlYgXcoKTm2"
      },
      "source": [
        "y_pred_gini = clf_gini.predict(X_test)  "
      ],
      "execution_count": null,
      "outputs": []
    },
    {
      "cell_type": "code",
      "metadata": {
        "colab": {
          "base_uri": "https://localhost:8080/"
        },
        "id": "23rk2rquKadN",
        "outputId": "ab592880-cf79-4e8b-aa1d-a12564545538"
      },
      "source": [
        "print (\"Accuracy : \", accuracy_score(y_test,y_pred_gini)*100)         # Evaulating predictions with test labels\n",
        "print (\"Report : \",  classification_report(y_test, y_pred_gini))"
      ],
      "execution_count": null,
      "outputs": [
        {
          "output_type": "stream",
          "text": [
            "Accuracy :  70.52154195011337\n",
            "Report :                precision    recall  f1-score   support\n",
            "\n",
            "           0       0.93      0.78      0.85       152\n",
            "           1       0.81      0.51      0.62        75\n",
            "           2       0.80      0.62      0.70        91\n",
            "           3       0.99      0.80      0.89       123\n",
            "\n",
            "   micro avg       0.90      0.71      0.79       441\n",
            "   macro avg       0.88      0.68      0.76       441\n",
            "weighted avg       0.90      0.71      0.79       441\n",
            " samples avg       0.71      0.71      0.71       441\n",
            "\n"
          ],
          "name": "stdout"
        },
        {
          "output_type": "stream",
          "text": [
            "/usr/local/lib/python3.7/dist-packages/sklearn/metrics/_classification.py:1272: UndefinedMetricWarning: Precision and F-score are ill-defined and being set to 0.0 in samples with no predicted labels. Use `zero_division` parameter to control this behavior.\n",
            "  _warn_prf(average, modifier, msg_start, len(result))\n"
          ],
          "name": "stderr"
        }
      ]
    },
    {
      "cell_type": "code",
      "metadata": {
        "colab": {
          "base_uri": "https://localhost:8080/",
          "height": 1000
        },
        "id": "dl2eDuVGKafn",
        "outputId": "471435c0-70a3-45c2-8011-4545ba47dc18"
      },
      "source": [
        "from sklearn import tree\n",
        "fig, axes = plt.subplots(nrows = 1,ncols = 1,figsize = (15,20), dpi=100)\n",
        "#fig = plt.figure(figsize=(25,20))\n",
        "_ = tree.plot_tree(clf_gini)\n",
        "#fig.savefig('tre.png')"
      ],
      "execution_count": null,
      "outputs": [
        {
          "output_type": "display_data",
          "data": {
            "image/png": "[encoded data removed]",
            "text/plain": [
              "<Figure size 1500x2000 with 1 Axes>"
            ]
          },
          "metadata": {
            "tags": [],
            "needs_background": "light"
          }
        }
      ]
    },
    {
      "cell_type": "code",
      "metadata": {
        "colab": {
          "base_uri": "https://localhost:8080/"
        },
        "id": "lovEIQknHIGr",
        "outputId": "ebf04961-56af-4d3e-b086-fee854608bdb"
      },
      "source": [
        "text_representation = tree.export_text(clf_gini, feature_names=X.columns.tolist())\n",
        "print(text_representation)"
      ],
      "execution_count": null,
      "outputs": [
        {
          "output_type": "stream",
          "text": [
            "|--- SE1 <= 0.54\n",
            "|   |--- TS1 <= -1.17\n",
            "|   |   |--- CE1 <= 1.36\n",
            "|   |   |   |--- PS1 <= 0.04\n",
            "|   |   |   |   |--- TS1 <= -1.20\n",
            "|   |   |   |   |   |--- class: 1\n",
            "|   |   |   |   |--- TS1 >  -1.20\n",
            "|   |   |   |   |   |--- class: 1\n",
            "|   |   |   |--- PS1 >  0.04\n",
            "|   |   |   |   |--- class: 1\n",
            "|   |   |--- CE1 >  1.36\n",
            "|   |   |   |--- FS2 <= 1.15\n",
            "|   |   |   |   |--- class: 1\n",
            "|   |   |   |--- FS2 >  1.15\n",
            "|   |   |   |   |--- TS1 <= -1.23\n",
            "|   |   |   |   |   |--- VS1 <= -1.09\n",
            "|   |   |   |   |   |   |--- class: 1\n",
            "|   |   |   |   |   |--- VS1 >  -1.09\n",
            "|   |   |   |   |   |   |--- class: 1\n",
            "|   |   |   |   |--- TS1 >  -1.23\n",
            "|   |   |   |   |   |--- class: 0\n",
            "|   |--- TS1 >  -1.17\n",
            "|   |   |--- P1 <= -0.31\n",
            "|   |   |   |--- VS1 <= 0.02\n",
            "|   |   |   |   |--- FS2 <= -0.03\n",
            "|   |   |   |   |   |--- class: 1\n",
            "|   |   |   |   |--- FS2 >  -0.03\n",
            "|   |   |   |   |   |--- FS2 <= 0.12\n",
            "|   |   |   |   |   |   |--- class: 0\n",
            "|   |   |   |   |   |--- FS2 >  0.12\n",
            "|   |   |   |   |   |   |--- class: 2\n",
            "|   |   |   |--- VS1 >  0.02\n",
            "|   |   |   |   |--- FS2 <= -1.23\n",
            "|   |   |   |   |   |--- P1 <= -1.53\n",
            "|   |   |   |   |   |   |--- class: 3\n",
            "|   |   |   |   |   |--- P1 >  -1.53\n",
            "|   |   |   |   |   |   |--- class: 3\n",
            "|   |   |   |   |--- FS2 >  -1.23\n",
            "|   |   |   |   |   |--- PS3 <= -0.02\n",
            "|   |   |   |   |   |   |--- class: 0\n",
            "|   |   |   |   |   |--- PS3 >  -0.02\n",
            "|   |   |   |   |   |   |--- class: 1\n",
            "|   |   |--- P1 >  -0.31\n",
            "|   |   |   |--- FS2 <= 1.13\n",
            "|   |   |   |   |--- PS4 <= 1.72\n",
            "|   |   |   |   |   |--- PS5 <= -1.30\n",
            "|   |   |   |   |   |   |--- class: 2\n",
            "|   |   |   |   |   |--- PS5 >  -1.30\n",
            "|   |   |   |   |   |   |--- class: 3\n",
            "|   |   |   |   |--- PS4 >  1.72\n",
            "|   |   |   |   |   |--- FS1 <= 0.48\n",
            "|   |   |   |   |   |   |--- class: 0\n",
            "|   |   |   |   |   |--- FS1 >  0.48\n",
            "|   |   |   |   |   |   |--- class: 0\n",
            "|   |   |   |--- FS2 >  1.13\n",
            "|   |   |   |   |--- P1 <= 0.61\n",
            "|   |   |   |   |   |--- PS1 <= 0.09\n",
            "|   |   |   |   |   |   |--- class: 0\n",
            "|   |   |   |   |   |--- PS1 >  0.09\n",
            "|   |   |   |   |   |   |--- class: 0\n",
            "|   |   |   |   |--- P1 >  0.61\n",
            "|   |   |   |   |   |--- CE1 <= 1.39\n",
            "|   |   |   |   |   |   |--- class: 0\n",
            "|   |   |   |   |   |--- CE1 >  1.39\n",
            "|   |   |   |   |   |   |--- class: 0\n",
            "|--- SE1 >  0.54\n",
            "|   |--- P1 <= -1.40\n",
            "|   |   |--- class: 2\n",
            "|   |--- P1 >  -1.40\n",
            "|   |   |--- class: 0\n",
            "\n"
          ],
          "name": "stdout"
        }
      ]
    },
    {
      "cell_type": "code",
      "metadata": {
        "colab": {
          "base_uri": "https://localhost:8080/",
          "height": 128
        },
        "id": "4WVCYjhc_fub",
        "outputId": "0098d78f-d381-432f-8bfa-2bec2d2f2c58"
      },
      "source": [
        "# get importance\n",
        "importance = clf_gini.feature_importances_\n",
        "# summarize feature importance\n",
        "for feature_names,v in enumerate(importance):\n",
        "\tprint('Feature: %0d, Score: %.5f' % (feature_names,v))\n",
        "# plot feature importance\n",
        "pyplot.bar([x for x in range(len(importance))], importance, tick_label= X.columns)\n",
        "pyplot.show())"
      ],
      "execution_count": null,
      "outputs": [
        {
          "output_type": "error",
          "ename": "SyntaxError",
          "evalue": "ignored",
          "traceback": [
            "\u001b[0;36m  File \u001b[0;32m\"<ipython-input-27-88e361d1629e>\"\u001b[0;36m, line \u001b[0;32m8\u001b[0m\n\u001b[0;31m    pyplot.show())\u001b[0m\n\u001b[0m                 ^\u001b[0m\n\u001b[0;31mSyntaxError\u001b[0m\u001b[0;31m:\u001b[0m invalid syntax\n"
          ]
        }
      ]
    },
    {
      "cell_type": "code",
      "metadata": {
        "colab": {
          "base_uri": "https://localhost:8080/",
          "height": 284
        },
        "id": "83PBinjMKami",
        "outputId": "547dee32-99ea-462d-a836-baa6fdd29726"
      },
      "source": [
        "df.describe()"
      ],
      "execution_count": null,
      "outputs": [
        {
          "output_type": "execute_result",
          "data": {
            "text/html": [
              "<div>\n",
              "<style scoped>\n",
              "    .dataframe tbody tr th:only-of-type {\n",
              "        vertical-align: middle;\n",
              "    }\n",
              "\n",
              "    .dataframe tbody tr th {\n",
              "        vertical-align: top;\n",
              "    }\n",
              "\n",
              "    .dataframe thead th {\n",
              "        text-align: right;\n",
              "    }\n",
              "</style>\n",
              "<table border=\"1\" class=\"dataframe\">\n",
              "  <thead>\n",
              "    <tr style=\"text-align: right;\">\n",
              "      <th></th>\n",
              "      <th>PS1</th>\n",
              "      <th>PS3</th>\n",
              "      <th>PS4</th>\n",
              "      <th>PS5</th>\n",
              "      <th>FS1</th>\n",
              "      <th>FS2</th>\n",
              "      <th>TS1</th>\n",
              "      <th>P1</th>\n",
              "      <th>VS1</th>\n",
              "      <th>CE1</th>\n",
              "      <th>CP1</th>\n",
              "      <th>SE1</th>\n",
              "      <th>accumulator</th>\n",
              "    </tr>\n",
              "  </thead>\n",
              "  <tbody>\n",
              "    <tr>\n",
              "      <th>count</th>\n",
              "      <td>2205.000000</td>\n",
              "      <td>2205.000000</td>\n",
              "      <td>2205.000000</td>\n",
              "      <td>2205.000000</td>\n",
              "      <td>2205.000000</td>\n",
              "      <td>2205.000000</td>\n",
              "      <td>2205.000000</td>\n",
              "      <td>2205.000000</td>\n",
              "      <td>2205.000000</td>\n",
              "      <td>2205.000000</td>\n",
              "      <td>2205.000000</td>\n",
              "      <td>2205.000000</td>\n",
              "      <td>2205.000000</td>\n",
              "    </tr>\n",
              "    <tr>\n",
              "      <th>mean</th>\n",
              "      <td>160.485315</td>\n",
              "      <td>1.753227</td>\n",
              "      <td>2.600266</td>\n",
              "      <td>9.163320</td>\n",
              "      <td>6.198549</td>\n",
              "      <td>9.649453</td>\n",
              "      <td>45.424567</td>\n",
              "      <td>2495.509203</td>\n",
              "      <td>0.613315</td>\n",
              "      <td>31.300695</td>\n",
              "      <td>1.808399</td>\n",
              "      <td>55.287900</td>\n",
              "      <td>107.199546</td>\n",
              "    </tr>\n",
              "    <tr>\n",
              "      <th>std</th>\n",
              "      <td>4.699425</td>\n",
              "      <td>0.251902</td>\n",
              "      <td>4.279355</td>\n",
              "      <td>0.576296</td>\n",
              "      <td>1.032883</td>\n",
              "      <td>0.449246</td>\n",
              "      <td>7.991933</td>\n",
              "      <td>73.836682</td>\n",
              "      <td>0.060260</td>\n",
              "      <td>11.574310</td>\n",
              "      <td>0.278263</td>\n",
              "      <td>8.960189</td>\n",
              "      <td>16.435848</td>\n",
              "    </tr>\n",
              "    <tr>\n",
              "      <th>min</th>\n",
              "      <td>155.391547</td>\n",
              "      <td>0.840252</td>\n",
              "      <td>0.000000</td>\n",
              "      <td>8.365800</td>\n",
              "      <td>2.018572</td>\n",
              "      <td>8.857513</td>\n",
              "      <td>35.313783</td>\n",
              "      <td>2361.747267</td>\n",
              "      <td>0.524367</td>\n",
              "      <td>17.555983</td>\n",
              "      <td>1.062150</td>\n",
              "      <td>18.276617</td>\n",
              "      <td>90.000000</td>\n",
              "    </tr>\n",
              "    <tr>\n",
              "      <th>25%</th>\n",
              "      <td>158.100195</td>\n",
              "      <td>1.729733</td>\n",
              "      <td>0.000000</td>\n",
              "      <td>8.547239</td>\n",
              "      <td>6.391670</td>\n",
              "      <td>9.203397</td>\n",
              "      <td>36.237150</td>\n",
              "      <td>2442.933467</td>\n",
              "      <td>0.555100</td>\n",
              "      <td>20.084650</td>\n",
              "      <td>1.550100</td>\n",
              "      <td>56.270183</td>\n",
              "      <td>90.000000</td>\n",
              "    </tr>\n",
              "    <tr>\n",
              "      <th>50%</th>\n",
              "      <td>158.960895</td>\n",
              "      <td>1.779631</td>\n",
              "      <td>0.000000</td>\n",
              "      <td>9.115781</td>\n",
              "      <td>6.576673</td>\n",
              "      <td>9.692270</td>\n",
              "      <td>44.836650</td>\n",
              "      <td>2480.926633</td>\n",
              "      <td>0.610183</td>\n",
              "      <td>27.392533</td>\n",
              "      <td>1.739683</td>\n",
              "      <td>58.758150</td>\n",
              "      <td>100.000000</td>\n",
              "    </tr>\n",
              "    <tr>\n",
              "      <th>75%</th>\n",
              "      <td>161.000735</td>\n",
              "      <td>1.932047</td>\n",
              "      <td>3.503266</td>\n",
              "      <td>9.844351</td>\n",
              "      <td>6.657508</td>\n",
              "      <td>10.155008</td>\n",
              "      <td>54.104317</td>\n",
              "      <td>2548.211467</td>\n",
              "      <td>0.649850</td>\n",
              "      <td>46.677383</td>\n",
              "      <td>2.148483</td>\n",
              "      <td>59.656900</td>\n",
              "      <td>130.000000</td>\n",
              "    </tr>\n",
              "    <tr>\n",
              "      <th>max</th>\n",
              "      <td>180.922708</td>\n",
              "      <td>2.023398</td>\n",
              "      <td>10.207068</td>\n",
              "      <td>9.978510</td>\n",
              "      <td>6.722707</td>\n",
              "      <td>10.403098</td>\n",
              "      <td>57.899283</td>\n",
              "      <td>2740.641000</td>\n",
              "      <td>0.839067</td>\n",
              "      <td>47.903667</td>\n",
              "      <td>2.840100</td>\n",
              "      <td>60.755300</td>\n",
              "      <td>130.000000</td>\n",
              "    </tr>\n",
              "  </tbody>\n",
              "</table>\n",
              "</div>"
            ],
            "text/plain": [
              "               PS1          PS3  ...          SE1  accumulator\n",
              "count  2205.000000  2205.000000  ...  2205.000000  2205.000000\n",
              "mean    160.485315     1.753227  ...    55.287900   107.199546\n",
              "std       4.699425     0.251902  ...     8.960189    16.435848\n",
              "min     155.391547     0.840252  ...    18.276617    90.000000\n",
              "25%     158.100195     1.729733  ...    56.270183    90.000000\n",
              "50%     158.960895     1.779631  ...    58.758150   100.000000\n",
              "75%     161.000735     1.932047  ...    59.656900   130.000000\n",
              "max     180.922708     2.023398  ...    60.755300   130.000000\n",
              "\n",
              "[8 rows x 13 columns]"
            ]
          },
          "metadata": {
            "tags": []
          },
          "execution_count": 28
        }
      ]
    },
    {
      "cell_type": "code",
      "metadata": {
        "id": "33sV-cBSKao1"
      },
      "source": [
        "df.sample(10)"
      ],
      "execution_count": null,
      "outputs": []
    },
    {
      "cell_type": "code",
      "metadata": {
        "id": "JQweN557KarN"
      },
      "source": [
        ""
      ],
      "execution_count": null,
      "outputs": []
    },
    {
      "cell_type": "code",
      "metadata": {
        "id": "sxuBw48CKatv"
      },
      "source": [
        ""
      ],
      "execution_count": null,
      "outputs": []
    },
    {
      "cell_type": "code",
      "metadata": {
        "id": "tT4w1mPHQVls"
      },
      "source": [
        ""
      ],
      "execution_count": null,
      "outputs": []
    }
  ]
}